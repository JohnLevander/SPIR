{
 "cells": [
  {
   "cell_type": "markdown",
   "metadata": {},
   "source": [
    "# SPIR Model Analysis"
   ]
  },
  {
   "cell_type": "markdown",
   "metadata": {},
   "source": [
    "Last Updated: 07/28/2016\n",
    "\n",
    "Updated by: L. Gustavo Nardin"
   ]
  },
  {
   "cell_type": "markdown",
   "metadata": {},
   "source": [
    "The SPIR model reproduces the dynamics of the infectious disease in a constant population of $N$ agents. Each agent can be in one of four states: Susceptible (S), Prophylactic (P), Infectious (I), or Recovered (R). The difference between agents in states S and P is that the former engage in non-prophylactic behavior and do not implement any measure to prevent infection, while the latter adopt prophylactic behavior which decrease their probability of being infected (e.g. wearing a mask, washing hands, etc.). Agents in the infectious state I are infected and infective, while those in \n",
    "the recovered state R are immune to and do not transmit disease.\n",
    "\n",
    "The behavioral decision model is a rational choice model that assumes agents are self-interested and rational; thus they adopt the behavior with the highest utility over the _planning horizon_, H. The planning horizon is the time in the future over which agents calculate their utilities. Agents' behavioral decision about the state to engage in depends on the disease parameters ($b_{\\text{S}}$, $\\rho$, and $\\gamma$), the planning horizon (H), and the prevalence of the disease ($i$) in the population. To simplify notation, it is helpful to first define the force of infection for state $\\text{X}$, $f_{\\text{X}}$: $f_{\\text{S}}=ib_{\\text{S}}$ and $f_{\\text{P}}=\\rho i b_{\\text{S}}$. The agent adopt the state that gives the highest utility according to\n",
    "\n",
    "$\\text{U}_{\\text{X}} = u_{\\text{X}} \\text{E}\\left[T_{\\text{X}|\\text{D}_{\\text{X}}}\\right] + u_{\\text{I}} \\text{E}\\left[T_{\\text{I}|\\text{D}_{\\text{X}}}\\right] + u_{\\text{R}} \\text{E}\\left[T_{\\text{R}|\\text{D}_{\\text{X}}}\\right], ~~~~~~~~~~~\\text{X} \\in \\{\\text{S}, \\text{P}\\}$\n",
    "\n",
    "where,\n",
    "\n",
    "$u_{\\text{Y}}$ is the payoff per time step for being in state $\\text{Y}$, where $\\text{Y} \\in \\{\\text{S}, \\text{P}, \\text{I}, \\text{R} \\}$\n",
    "\n",
    "$\\text{E}\\left[T_{\\text{X}|\\text{D}_{\\text{X}}}\\right] = \\left( \\frac{1}{f_{\\text{X}}} - 1 \\right) \\left( 1- \\left(1 - f_{\\text{X}} \\right)^{\\text{H}} \\right)$\n",
    "\n",
    "$\\text{E}\\left[T_{\\text{I}|\\text{D}_{\\text{X}}}\\right] = \\left( \\frac{1}{g} - 1 \\right) \\frac{ \\left( \\frac{1}{g} - 1\\right) \\left( 1 - \\left( 1 - g \\right)^{\\text{H}} \\right) - \\left( \\frac{1}{f_{\\text{X}}} - 1\\right) \\left( 1 - \\left( 1 - f_{\\text{X}} \\right)^{\\text{H}} \\right)}{\\left( \\frac{1}{g} - 1\\right) - \\left( \\frac{1}{f_{\\text{X}}} - 1\\right)}$\n",
    "\n",
    "$\\text{E}[T_{\\text{R}|\\text{D}_{\\text{X}}}] = \\text{H} - \\text{E}\\left[T_{\\text{X}|\\text{D}_{\\text{X}}}\\right] - \\text{E}\\left[T_{\\text{I}|\\text{D}_{\\text{X}}}\\right]$\n",
    "\n",
    "| Parameters                 | Description   |\n",
    "| -------------------------- |---------------|\n",
    "| $N$                        | Total number of agents in the population. |\n",
    "| S                          | An agent in the susceptible state engaging in non-prophylactic behavior.|\n",
    "| P                          | An agent in the susceptible state engaging in prophylactic behavior.|\n",
    "| I                          | An agent in the infectious state.|\n",
    "| R                          | An agent in the recovered state.|\n",
    "| $s$                        | Proportion of susceptible agents in the population.|\n",
    "| $p$                        | Proportion of prophylactic agents in the population.|\n",
    "| $i$                        | Proportion of infectious agents in the population.|\n",
    "| $r$                        | Proportion of recovered agents in the population.|\n",
    "| $b_{\\text{S}}$             | Probability that an agent in the susceptible state becomes infected upon interacting with an infectious agent.|\n",
    "| $b_{\\text{P}}$             | Probability that an agent in the prophylactic state becomes infected upon interacting with an infectious agent.|\n",
    "| $\\rho$                     | Reduction in the transmission probability or rate when adopting prophylactic behavior: $b_{\\text{P}} = \\rho b_{\\text{S}}$ ($0 \\leq \\rho \\leq 1$). Note that we refer to $1 - \\rho$ as the _protection_.|\n",
    "| $g$                        | Probability an infectious agent recovers.|\n",
    "| $d$                        | Probability an agent in the susceptible or prophylactic state decides which behavior to engage in.|\n",
    "| $\\kappa$                   | Distortion of the perceived proportion of infectious agents in the population (i.e. _distortion factor_).|\n",
    "| $u_{\\text{Y}}$             | Payoff per time step for being in state $\\text{Y}$, where $\\text{Y} \\in \\{\\text{S},\\text{P},\\text{I},\\text{R}\\}$.|\n",
    "| $\\text{E}\\left[T_{\\text{Y}|\\text{D}_{\\text{X}}}\\right]$ | Number of time steps agents expect to spend in state $\\text{Y}$ assuming they decide to adopt state $\\text{X}$ (i.e. $\\text{D}_{\\text{X}}$), where $\\text{Y} \\in \\{\\text{S},\\text{P},\\text{I},\\text{R}\\}$ and $\\text{X} \\in \\{\\text{S},\\text{P}\\}$.|\n",
    "| $\\text{U}_{\\text{X}}$      | Utility for adopting state $\\text{X}$, where $\\text{X} \\in \\{ \\text{S},\\text{P} \\}$.|\n",
    "| $\\text{H}$                 | Time into the future at which agents calculate their current utilities (i.e. _planning horizon_).|\n",
    "| $\\text{W}\\left( i \\right)$ | Indicator function returning value 1 when the expected utility of adopting prophylactic behavior is greater than the utility of adopting non-prophylactic behavior and 0 otherwise.|"
   ]
  }
 ],
 "metadata": {
  "kernelspec": {
   "display_name": "R",
   "language": "R",
   "name": "ir"
  },
  "language_info": {
   "codemirror_mode": "r",
   "file_extension": ".r",
   "mimetype": "text/x-r-source",
   "name": "R",
   "pygments_lexer": "r",
   "version": "3.3.1"
  }
 },
 "nbformat": 4,
 "nbformat_minor": 0
}
